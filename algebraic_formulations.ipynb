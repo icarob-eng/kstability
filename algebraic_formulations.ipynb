{
  "nbformat": 4,
  "nbformat_minor": 0,
  "metadata": {
    "colab": {
      "provenance": []
    },
    "kernelspec": {
      "name": "python3",
      "display_name": "Python 3"
    },
    "language_info": {
      "name": "python"
    }
  },
  "cells": [
    {
      "cell_type": "code",
      "execution_count": 1,
      "metadata": {
        "id": "lesxpNJ_8Q_-"
      },
      "outputs": [],
      "source": [
        "from sympy import *"
      ]
    },
    {
      "cell_type": "markdown",
      "source": [
        "# Formulações algébricas para determinação de forças de reação sob uma barra\n",
        "## Considerações iniciais\n",
        "Considera-se uma barra determinada por um segmento de reta. A barra sofre um momento fletor resultante $M_R$ e um vetor força resultante $\\vec{F_R}$. A partir disto, se deseja detertminar duas forças de reação $\\vec{F_A}$ e $\\vec{F_B}$, com excentricidades de $\\vec{R_A}$ e $\\vec{R_B}$ em relação a um ponto de referência arbitrário.\n",
        "\n",
        "Para que seja um sistema isostático com duas forças de reação, uma delas deve está restrita a uma direção específica $\\hat{i}$ de modo que $\\vec{F_B} = k \\hat{i}$, onde $k$ representa uma das icógnitas do problema.\n",
        "\n",
        "Sabemos também que, pelo princípio da inércia: $\\vec{F_R} = \\vec{F_A} + \\vec{F_B}$. Fazendo a mesma consideração para os momentos fletores das forças, chegamos no primeiro sistema de equações:\n",
        "\n",
        "$\\begin{cases}\n",
        "\\vec{F_R} = \\vec{F_A} + k \\hat{i} \\\\\n",
        "M_R = M_A + M_R\n",
        "\\end{cases}$\n",
        "\n",
        "Para simplificar a manipulação algébrica, foi cosiderado que $\\vec{F_R} = \\langle C_x; C_y \\rangle$, $\\vec{F_B} = \\langle B_x; B_y \\rangle$,  $\\vec{F_A} = \\langle A_x; A_y \\rangle$, $\\hat{i} = \\langle i_x; i_y \\rangle$, $\\vec{R_A} = \\langle R_{xA}; R_{yA} \\rangle$ e, por fim, $\\vec{R_B} = \\langle R_{xB}; R_{yB} \\rangle$.\n",
        "\n",
        "Começamos definindo os símbolos no `sympy`."
      ],
      "metadata": {
        "id": "q9d7ym9YRFik"
      }
    },
    {
      "cell_type": "code",
      "source": [
        "ax, ay = symbols('A_x A_y')\n",
        "bx, by = symbols('B_x B_y')\n",
        "cx, cy = symbols('C_x C_y')\n",
        "ix, iy = symbols('i_x i_y')\n",
        "rxa, rya = symbols('R_xA R_yA')\n",
        "rxb, ryb = symbols('R_xB R_yB')\n",
        "\n",
        "k, mr = symbols('k M_R')"
      ],
      "metadata": {
        "id": "d0oFi__CXxhY"
      },
      "execution_count": 2,
      "outputs": []
    },
    {
      "cell_type": "markdown",
      "source": [
        "Em seguida, definimos a equação de estaticidade do momento fletor, onde já é feito o produto cruzado de $M = \\vec{R} \\times \\vec {F} = R_x F_y - R_y F_x$. E também a equação de estacidade de forças, dividindo a equação nas duas componentes. Mas reescrevemos $B_x$ em termos de $k$ e $\\hat{i}$. "
      ],
      "metadata": {
        "id": "oQ8C5B_Vcf2X"
      }
    },
    {
      "cell_type": "code",
      "source": [
        "bx = k * ix\n",
        "by = k * iy\n",
        "\n",
        "ma = rxa * ay - rya * ax\n",
        "mb = rxb * by - ryb * bx\n",
        "exp1 = Eq(mr, ma + mb)\n",
        "\n",
        "exp1"
      ],
      "metadata": {
        "id": "WuBOsyMkVl2w",
        "outputId": "13ca891b-66dc-4df2-9bd7-701b1b5af476",
        "colab": {
          "base_uri": "https://localhost:8080/",
          "height": 38
        }
      },
      "execution_count": 3,
      "outputs": [
        {
          "output_type": "execute_result",
          "data": {
            "text/plain": [
              "Eq(M_R, -A_x*R_yA + A_y*R_xA + R_xB*i_y*k - R_yB*i_x*k)"
            ],
            "text/latex": "$\\displaystyle M_{R} = - A_{x} R_{yA} + A_{y} R_{xA} + R_{xB} i_{y} k - R_{yB} i_{x} k$"
          },
          "metadata": {},
          "execution_count": 3
        }
      ]
    },
    {
      "cell_type": "code",
      "source": [
        "exp2 = Eq(cx, ax + k * ix)\n",
        "\n",
        "exp2"
      ],
      "metadata": {
        "colab": {
          "base_uri": "https://localhost:8080/",
          "height": 38
        },
        "id": "fFelL7_4baJZ",
        "outputId": "9b0d218c-31e1-4e28-e8d0-47e0656bb47d"
      },
      "execution_count": 4,
      "outputs": [
        {
          "output_type": "execute_result",
          "data": {
            "text/plain": [
              "Eq(C_x, A_x + i_x*k)"
            ],
            "text/latex": "$\\displaystyle C_{x} = A_{x} + i_{x} k$"
          },
          "metadata": {},
          "execution_count": 4
        }
      ]
    },
    {
      "cell_type": "code",
      "source": [
        "exp3 = Eq(cy, ay + k * iy)\n",
        "\n",
        "exp3"
      ],
      "metadata": {
        "colab": {
          "base_uri": "https://localhost:8080/",
          "height": 38
        },
        "id": "H1ug3v1SbgzS",
        "outputId": "53e06d1d-a647-4f42-b112-5671f85ce499"
      },
      "execution_count": 5,
      "outputs": [
        {
          "output_type": "execute_result",
          "data": {
            "text/plain": [
              "Eq(C_y, A_y + i_y*k)"
            ],
            "text/latex": "$\\displaystyle C_{y} = A_{y} + i_{y} k$"
          },
          "metadata": {},
          "execution_count": 5
        }
      ]
    },
    {
      "cell_type": "markdown",
      "source": [
        "## Determinando $k$"
      ],
      "metadata": {
        "id": "x_69iFtpZPYL"
      }
    },
    {
      "cell_type": "code",
      "source": [
        "expk = Eq(k, solve(exp1, k)[0])\n",
        "expk"
      ],
      "metadata": {
        "id": "jkyZdFBVZO6e",
        "outputId": "0943e7b4-5d7e-4729-e678-025803b15768",
        "colab": {
          "base_uri": "https://localhost:8080/",
          "height": 57
        }
      },
      "execution_count": 6,
      "outputs": [
        {
          "output_type": "execute_result",
          "data": {
            "text/plain": [
              "Eq(k, (A_x*R_yA - A_y*R_xA + M_R)/(R_xB*i_y - R_yB*i_x))"
            ],
            "text/latex": "$\\displaystyle k = \\frac{A_{x} R_{yA} - A_{y} R_{xA} + M_{R}}{R_{xB} i_{y} - R_{yB} i_{x}}$"
          },
          "metadata": {},
          "execution_count": 6
        }
      ]
    },
    {
      "cell_type": "markdown",
      "source": [
        "Vamos subsitutir o denominador, que é constante, por $\\phi$."
      ],
      "metadata": {
        "id": "P09gS86qf-z4"
      }
    },
    {
      "cell_type": "code",
      "source": [
        "phi = symbols('\\phi')\n",
        "\n",
        "exp_phi = rxb * iy - ryb * ix\n",
        "\n",
        "expk = expk.subs(exp_phi, phi)\n",
        "\n",
        "expk"
      ],
      "metadata": {
        "colab": {
          "base_uri": "https://localhost:8080/",
          "height": 55
        },
        "id": "pHKceuWOhSzv",
        "outputId": "77bdff47-cdbb-40ee-ad2b-e6ec4866b32d"
      },
      "execution_count": 7,
      "outputs": [
        {
          "output_type": "execute_result",
          "data": {
            "text/plain": [
              "Eq(k, (A_x*R_yA - A_y*R_xA + M_R)/\\phi)"
            ],
            "text/latex": "$\\displaystyle k = \\frac{A_{x} R_{yA} - A_{y} R_{xA} + M_{R}}{\\phi}$"
          },
          "metadata": {},
          "execution_count": 7
        }
      ]
    },
    {
      "cell_type": "code",
      "source": [
        "expk = expk.args[1]"
      ],
      "metadata": {
        "id": "wzVUtXelnIjT"
      },
      "execution_count": 8,
      "outputs": []
    },
    {
      "cell_type": "markdown",
      "source": [
        "Agora substituimos isto na expressão 2 e na 3. "
      ],
      "metadata": {
        "id": "Gety8jbSmoLQ"
      }
    },
    {
      "cell_type": "code",
      "source": [
        "exp2 = exp2.subs(k, expk)\n",
        "exp3 = exp3.subs(k, expk)"
      ],
      "metadata": {
        "id": "bSO-V415m2VU"
      },
      "execution_count": 9,
      "outputs": []
    },
    {
      "cell_type": "markdown",
      "source": [
        "## Resolvendo o sistema de equações\n",
        "Com as duas expressões encontradas, resolver um sistema com as duas expressões."
      ],
      "metadata": {
        "id": "ir4S_lLwm1iP"
      }
    },
    {
      "cell_type": "code",
      "source": [
        "linsolve([exp2, exp3], ax, ay)"
      ],
      "metadata": {
        "colab": {
          "base_uri": "https://localhost:8080/",
          "height": 58
        },
        "id": "PAuthaqVoA4K",
        "outputId": "f4c75875-d1be-4103-9c32-57c449435a94"
      },
      "execution_count": 10,
      "outputs": [
        {
          "output_type": "execute_result",
          "data": {
            "text/plain": [
              "FiniteSet(((C_x*R_xA*i_y - C_x*\\phi - C_y*R_xA*i_x + M_R*i_x)/(R_xA*i_y - R_yA*i_x - \\phi), (C_x*R_yA*i_y - C_y*R_yA*i_x - C_y*\\phi + M_R*i_y)/(R_xA*i_y - R_yA*i_x - \\phi)))"
            ],
            "text/latex": "$\\displaystyle \\left\\{\\left( \\frac{C_{x} R_{xA} i_{y} - C_{x} \\phi - C_{y} R_{xA} i_{x} + M_{R} i_{x}}{R_{xA} i_{y} - R_{yA} i_{x} - \\phi}, \\  \\frac{C_{x} R_{yA} i_{y} - C_{y} R_{yA} i_{x} - C_{y} \\phi + M_{R} i_{y}}{R_{xA} i_{y} - R_{yA} i_{x} - \\phi}\\right)\\right\\}$"
          },
          "metadata": {},
          "execution_count": 10
        }
      ]
    },
    {
      "cell_type": "code",
      "source": [
        "expAx = linsolve([exp2, exp3], ax, ay).args[0].args[0]\n",
        "expAy = linsolve([exp2, exp3], ax, ay).args[0].args[1]"
      ],
      "metadata": {
        "id": "MejzezTCrnhq"
      },
      "execution_count": 11,
      "outputs": []
    },
    {
      "cell_type": "markdown",
      "source": [
        "Para simplificar ainda mais, podemos substituir $|\\vec{R_A}\\times \\hat{i}|$ por $\\psi$."
      ],
      "metadata": {
        "id": "gslV5keDjgaH"
      }
    },
    {
      "cell_type": "code",
      "source": [
        "psi = Symbol('\\psi')\n",
        "\n",
        "exp_psi = rxa * iy - rya * ix\n",
        "\n",
        "exp_psi"
      ],
      "metadata": {
        "colab": {
          "base_uri": "https://localhost:8080/",
          "height": 38
        },
        "id": "krcwQB58jzsV",
        "outputId": "48c596ac-0210-4897-89f9-4f9191f41dbe"
      },
      "execution_count": 12,
      "outputs": [
        {
          "output_type": "execute_result",
          "data": {
            "text/plain": [
              "R_xA*i_y - R_yA*i_x"
            ],
            "text/latex": "$\\displaystyle R_{xA} i_{y} - R_{yA} i_{x}$"
          },
          "metadata": {},
          "execution_count": 12
        }
      ]
    },
    {
      "cell_type": "code",
      "source": [
        "expAxs = expAx.subs(exp_psi, psi)\n",
        "expAys = expAy.subs(exp_psi, psi)"
      ],
      "metadata": {
        "id": "iSHr8yISkVJ-"
      },
      "execution_count": 13,
      "outputs": []
    },
    {
      "cell_type": "code",
      "source": [
        "expAxs"
      ],
      "metadata": {
        "colab": {
          "base_uri": "https://localhost:8080/",
          "height": 55
        },
        "id": "UILoRJ8sktuX",
        "outputId": "16294d89-223f-4c6a-aa6e-224b8459216c"
      },
      "execution_count": 14,
      "outputs": [
        {
          "output_type": "execute_result",
          "data": {
            "text/plain": [
              "(C_x*R_xA*i_y - C_x*\\phi - C_y*R_xA*i_x + M_R*i_x)/(-\\phi + \\psi)"
            ],
            "text/latex": "$\\displaystyle \\frac{C_{x} R_{xA} i_{y} - C_{x} \\phi - C_{y} R_{xA} i_{x} + M_{R} i_{x}}{- \\phi + \\psi}$"
          },
          "metadata": {},
          "execution_count": 14
        }
      ]
    },
    {
      "cell_type": "code",
      "source": [
        "expAys"
      ],
      "metadata": {
        "colab": {
          "base_uri": "https://localhost:8080/",
          "height": 55
        },
        "id": "ui0WRDLRkw5L",
        "outputId": "f28d9edf-0527-444c-8efc-8190c321fbbd"
      },
      "execution_count": 15,
      "outputs": [
        {
          "output_type": "execute_result",
          "data": {
            "text/plain": [
              "(C_x*R_yA*i_y - C_y*R_yA*i_x - C_y*\\phi + M_R*i_y)/(-\\phi + \\psi)"
            ],
            "text/latex": "$\\displaystyle \\frac{C_{x} R_{yA} i_{y} - C_{y} R_{yA} i_{x} - C_{y} \\phi + M_{R} i_{y}}{- \\phi + \\psi}$"
          },
          "metadata": {},
          "execution_count": 15
        }
      ]
    },
    {
      "cell_type": "markdown",
      "source": [
        "## Validação prática\n",
        "\n",
        "Vamos testar as fórmulas com um modelo simples e previsível, uma barra apoiada nos pontos $(0;2)$ e $(3;2)$, de modo que estes valem repectivamente aos vetores $\\vec{R_A}$ e $\\vec{R_B}$. A unica carga na barra é uma força determinada como $\\vec{F_R} = \\langle 0; 3 \\rangle$, de modo que $M_R = 3$, além disso, $\\hat{i} = \\langle 0; 1 \\rangle$. Dessa forma, se espera que $k = 1$ e $\\vec{F_A} = \\langle 0; 2 \\rangle$. Para fazer as substituições, vamos fazer um dicionário com os valores conhecidos."
      ],
      "metadata": {
        "id": "9LrAVSGF59Ui"
      }
    },
    {
      "cell_type": "code",
      "source": [
        "vals = {\n",
        "    rxa: 0, rya: 2,\n",
        "    rxb: 4, ryb: 2,\n",
        "    cx: 0, cy: -30,\n",
        "    ix: 0, iy: 1,\n",
        "    mr: -50\n",
        "    }"
      ],
      "metadata": {
        "id": "5DpKyqaUT6Zf"
      },
      "execution_count": 16,
      "outputs": []
    },
    {
      "cell_type": "code",
      "source": [
        "vals.update({\n",
        "    phi: exp_phi.subs(vals),\n",
        "    psi: exp_psi.subs(vals)\n",
        "    })  # determina os valores de psi e phi"
      ],
      "metadata": {
        "id": "cs0beVH0UwdE"
      },
      "execution_count": 17,
      "outputs": []
    },
    {
      "cell_type": "markdown",
      "source": [
        "Antes de determinar os valores de $A_x$ e $A_y$, vamos determinar se o denominador das expressões é diferente de $0$."
      ],
      "metadata": {
        "id": "NiBnyCHwWx3f"
      }
    },
    {
      "cell_type": "code",
      "source": [
        "vals[psi] - vals[phi]"
      ],
      "metadata": {
        "colab": {
          "base_uri": "https://localhost:8080/",
          "height": 37
        },
        "id": "t6SlxdrgWIUk",
        "outputId": "99a927e4-f8e8-47c1-9e09-3e3a3e8d2024"
      },
      "execution_count": 18,
      "outputs": [
        {
          "output_type": "execute_result",
          "data": {
            "text/plain": [
              "-4"
            ],
            "text/latex": "$\\displaystyle -4$"
          },
          "metadata": {},
          "execution_count": 18
        }
      ]
    },
    {
      "cell_type": "code",
      "source": [
        "vals.update({ax: expAxs.subs(vals), ay: expAys.subs(vals)})\n",
        "print(vals[ax], vals[ay])"
      ],
      "metadata": {
        "colab": {
          "base_uri": "https://localhost:8080/"
        },
        "id": "n3ocAYwkZ5Jc",
        "outputId": "47b98fcb-ba83-481d-c2ed-dc71e0d52b17"
      },
      "execution_count": 19,
      "outputs": [
        {
          "output_type": "stream",
          "name": "stdout",
          "text": [
            "0 -35/2\n"
          ]
        }
      ]
    },
    {
      "cell_type": "code",
      "source": [
        "expk.subs(vals)"
      ],
      "metadata": {
        "id": "V7Q672vmbpvp",
        "colab": {
          "base_uri": "https://localhost:8080/",
          "height": 51
        },
        "outputId": "2d380559-59d1-4b91-89f8-7499bc04788f"
      },
      "execution_count": 20,
      "outputs": [
        {
          "output_type": "execute_result",
          "data": {
            "text/plain": [
              "-25/2"
            ],
            "text/latex": "$\\displaystyle - \\frac{25}{2}$"
          },
          "metadata": {},
          "execution_count": 20
        }
      ]
    },
    {
      "cell_type": "markdown",
      "source": [
        "## Considerações finais\n",
        "\n",
        "Tendo em vista o desenvolvimento mostrado, conclui-se que a intensidade do vetor de direção restrita $\\vec{F_B}$ é equivalente à expressão:"
      ],
      "metadata": {
        "id": "Qxin_ri5ePZT"
      }
    },
    {
      "cell_type": "code",
      "source": [
        "expk"
      ],
      "metadata": {
        "colab": {
          "base_uri": "https://localhost:8080/",
          "height": 55
        },
        "id": "htYcuqn3iWa7",
        "outputId": "7361ea62-33c5-4fad-8257-f63015c40fa5"
      },
      "execution_count": 21,
      "outputs": [
        {
          "output_type": "execute_result",
          "data": {
            "text/plain": [
              "(A_x*R_yA - A_y*R_xA + M_R)/\\phi"
            ],
            "text/latex": "$\\displaystyle \\frac{A_{x} R_{yA} - A_{y} R_{xA} + M_{R}}{\\phi}$"
          },
          "metadata": {},
          "execution_count": 21
        }
      ]
    },
    {
      "cell_type": "markdown",
      "source": [
        "Onde\n",
        "\n",
        "$\\phi = |\\vec{R_B} \\times \\hat{i}|$\n",
        "\n",
        "e\n",
        "\n",
        "$\\psi = |\\vec{R_A} \\times \\hat{i}|$"
      ],
      "metadata": {
        "id": "BNLU-99viqfj"
      }
    },
    {
      "cell_type": "code",
      "source": [
        "exp_phi"
      ],
      "metadata": {
        "colab": {
          "base_uri": "https://localhost:8080/",
          "height": 38
        },
        "id": "2cUnW2avjCkM",
        "outputId": "6f31d3c6-ded7-459d-90d5-b1da9feadac7"
      },
      "execution_count": 22,
      "outputs": [
        {
          "output_type": "execute_result",
          "data": {
            "text/plain": [
              "R_xB*i_y - R_yB*i_x"
            ],
            "text/latex": "$\\displaystyle R_{xB} i_{y} - R_{yB} i_{x}$"
          },
          "metadata": {},
          "execution_count": 22
        }
      ]
    },
    {
      "cell_type": "code",
      "source": [
        "exp_psi"
      ],
      "metadata": {
        "colab": {
          "base_uri": "https://localhost:8080/",
          "height": 38
        },
        "id": "ndTUZMyLlYjJ",
        "outputId": "6c3db1fc-8770-4a86-d788-a836a7a16253"
      },
      "execution_count": 23,
      "outputs": [
        {
          "output_type": "execute_result",
          "data": {
            "text/plain": [
              "R_xA*i_y - R_yA*i_x"
            ],
            "text/latex": "$\\displaystyle R_{xA} i_{y} - R_{yA} i_{x}$"
          },
          "metadata": {},
          "execution_count": 23
        }
      ]
    },
    {
      "cell_type": "markdown",
      "source": [
        "Enquanto que $A_x$ e $A_y$, que compõe $\\vec{F_A}$, são determinados pelas respectivas fórmulas:"
      ],
      "metadata": {
        "id": "SQKJvnxmiaE2"
      }
    },
    {
      "cell_type": "code",
      "source": [
        "expAxs"
      ],
      "metadata": {
        "colab": {
          "base_uri": "https://localhost:8080/",
          "height": 55
        },
        "id": "Um9sH_XPlynw",
        "outputId": "2430c844-711d-4ede-ff11-69ff71364528"
      },
      "execution_count": 24,
      "outputs": [
        {
          "output_type": "execute_result",
          "data": {
            "text/plain": [
              "(C_x*R_xA*i_y - C_x*\\phi - C_y*R_xA*i_x + M_R*i_x)/(-\\phi + \\psi)"
            ],
            "text/latex": "$\\displaystyle \\frac{C_{x} R_{xA} i_{y} - C_{x} \\phi - C_{y} R_{xA} i_{x} + M_{R} i_{x}}{- \\phi + \\psi}$"
          },
          "metadata": {},
          "execution_count": 24
        }
      ]
    },
    {
      "cell_type": "code",
      "source": [
        "expAys"
      ],
      "metadata": {
        "colab": {
          "base_uri": "https://localhost:8080/",
          "height": 55
        },
        "id": "N4HBCIgll3ai",
        "outputId": "c828e4d8-8c93-4743-b450-756d26253406"
      },
      "execution_count": 25,
      "outputs": [
        {
          "output_type": "execute_result",
          "data": {
            "text/plain": [
              "(C_x*R_yA*i_y - C_y*R_yA*i_x - C_y*\\phi + M_R*i_y)/(-\\phi + \\psi)"
            ],
            "text/latex": "$\\displaystyle \\frac{C_{x} R_{yA} i_{y} - C_{y} R_{yA} i_{x} - C_{y} \\phi + M_{R} i_{y}}{- \\phi + \\psi}$"
          },
          "metadata": {},
          "execution_count": 25
        }
      ]
    }
  ]
}